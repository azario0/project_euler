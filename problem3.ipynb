{
  "nbformat": 4,
  "nbformat_minor": 0,
  "metadata": {
    "colab": {
      "provenance": [],
      "authorship_tag": "ABX9TyN5urLUau0sLbY0cWVNs6wA",
      "include_colab_link": true
    },
    "kernelspec": {
      "name": "python3",
      "display_name": "Python 3"
    },
    "language_info": {
      "name": "python"
    },
    "accelerator": "GPU",
    "gpuClass": "standard"
  },
  "cells": [
    {
      "cell_type": "markdown",
      "metadata": {
        "id": "view-in-github",
        "colab_type": "text"
      },
      "source": [
        "<a href=\"https://colab.research.google.com/github/azario0/project_euler/blob/main/problem3.ipynb\" target=\"_parent\"><img src=\"https://colab.research.google.com/assets/colab-badge.svg\" alt=\"Open In Colab\"/></a>"
      ]
    },
    {
      "cell_type": "code",
      "execution_count": 1,
      "metadata": {
        "colab": {
          "base_uri": "https://localhost:8080/",
          "height": 36
        },
        "id": "Mw-M_lY-WA6k",
        "outputId": "3655b937-b314-4e38-f9a2-80c5c637cdf0"
      },
      "outputs": [
        {
          "output_type": "execute_result",
          "data": {
            "text/plain": [
              "'The prime factors of 13195 are 5, 7, 13 and 29.\\n\\nWhat is the largest prime factor of the number 600851475143 ?'"
            ],
            "application/vnd.google.colaboratory.intrinsic+json": {
              "type": "string"
            }
          },
          "metadata": {},
          "execution_count": 1
        }
      ],
      "source": [
        "\"\"\"The prime factors of 13195 are 5, 7, 13 and 29.\n",
        "\n",
        "What is the largest prime factor of the number 600851475143 ?\"\"\""
      ]
    },
    {
      "cell_type": "code",
      "source": [
        "#Solution 1\n",
        "import time\n",
        "start_time = time.time()\n",
        "number = 4000000\n",
        "prime=[]\n",
        "for i in range(2,int(number/2)+1):\n",
        "  indicator =1\n",
        "  if (number % int(i)==0):\n",
        "    for j in range(2,int(i/2)+1):\n",
        "      if (int(i)%int(j) ==0):\n",
        "        indicator=0\n",
        "    if (indicator ==1):\n",
        "      prime.append(i)\n",
        "print(prime)\n",
        "print(\"--- %s seconds ---\" % (time.time() - start_time))"
      ],
      "metadata": {
        "colab": {
          "base_uri": "https://localhost:8080/"
        },
        "id": "mTP510ghYlxl",
        "outputId": "4e02f85c-9a2a-4f89-e293-f323b0dd5528"
      },
      "execution_count": 60,
      "outputs": [
        {
          "output_type": "stream",
          "name": "stdout",
          "text": [
            "[2, 5]\n",
            "--- 1.2951982021331787 seconds ---\n"
          ]
        }
      ]
    },
    {
      "cell_type": "code",
      "source": [
        "#Solution 2\n",
        "start_time = time.time()\n",
        "import math\n",
        "def maxPrimeFactors (n):\n",
        "\tmax_prime = -1\n",
        "\twhile n % 2 == 0:\n",
        "\t\tmax_prime = 2\n",
        "\t\tn /= 2\t \n",
        "\twhile n % 3 == 0:\n",
        "\t\tmax_prime = 3\n",
        "\t\tn=n/3\n",
        "\tfor i in range(5, int(math.sqrt(n)) + 1, 6):\n",
        "\t\twhile n % i == 0:\n",
        "\t\t\tmax_prime = i\n",
        "\t\t\tn = n / i\n",
        "\t\twhile n % (i+2) == 0:\n",
        "\t\t\tmax_prime = i+2\n",
        "\t\t\tn = n / (i+2)\n",
        "\tif n > 4:\n",
        "\t\tmax_prime = n\n",
        "\t\n",
        "\treturn max_prime\n",
        "n = 6008514751430023345600232\n",
        "print(maxPrimeFactors(n))\n",
        "print(\"--- %s seconds ---\" % (time.time() - start_time))\n"
      ],
      "metadata": {
        "colab": {
          "base_uri": "https://localhost:8080/"
        },
        "id": "Ldebvqycs2gR",
        "outputId": "262005d9-11de-46ea-858f-c0ee0c92411c"
      },
      "execution_count": 62,
      "outputs": [
        {
          "output_type": "stream",
          "name": "stdout",
          "text": [
            "207254275108033.0\n",
            "--- 0.8500094413757324 seconds ---\n"
          ]
        }
      ]
    },
    {
      "cell_type": "code",
      "source": [],
      "metadata": {
        "id": "djTJMkqP57OD"
      },
      "execution_count": null,
      "outputs": []
    }
  ]
}