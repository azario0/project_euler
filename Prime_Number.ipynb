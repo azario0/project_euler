{
  "nbformat": 4,
  "nbformat_minor": 0,
  "metadata": {
    "colab": {
      "provenance": [],
      "authorship_tag": "ABX9TyNI+OwTujyvAPMOa7oftZmd",
      "include_colab_link": true
    },
    "kernelspec": {
      "name": "python3",
      "display_name": "Python 3"
    },
    "language_info": {
      "name": "python"
    }
  },
  "cells": [
    {
      "cell_type": "markdown",
      "metadata": {
        "id": "view-in-github",
        "colab_type": "text"
      },
      "source": [
        "<a href=\"https://colab.research.google.com/github/azario0/project_euler/blob/main/Prime_Number.ipynb\" target=\"_parent\"><img src=\"https://colab.research.google.com/assets/colab-badge.svg\" alt=\"Open In Colab\"/></a>"
      ]
    },
    {
      "cell_type": "code",
      "execution_count": 1,
      "metadata": {
        "colab": {
          "base_uri": "https://localhost:8080/",
          "height": 35
        },
        "id": "Mw-M_lY-WA6k",
        "outputId": "3655b937-b314-4e38-f9a2-80c5c637cdf0"
      },
      "outputs": [
        {
          "output_type": "execute_result",
          "data": {
            "text/plain": [
              "'The prime factors of 13195 are 5, 7, 13 and 29.\\n\\nWhat is the largest prime factor of the number 600851475143 ?'"
            ],
            "application/vnd.google.colaboratory.intrinsic+json": {
              "type": "string"
            }
          },
          "metadata": {},
          "execution_count": 1
        }
      ],
      "source": [
        "\"\"\"The prime factors of 13195 are 5, 7, 13 and 29.\n",
        "\n",
        "What is the largest prime factor of the number 600851475143 ?\"\"\""
      ]
    },
    {
      "cell_type": "code",
      "source": [
        "#Solution 1\n",
        "number = 13195\n",
        "prime=[]\n",
        "for i in range(2,int(number/2)):\n",
        "  indicator =1\n",
        "  if (number % int(i)==0):\n",
        "    for j in range(2,int(i/2)):\n",
        "      if (int(i)%int(j) ==0):\n",
        "        indicator=0\n",
        "    if (indicator ==1):\n",
        "      prime.append(i)\n",
        "print(prime)"
      ],
      "metadata": {
        "colab": {
          "base_uri": "https://localhost:8080/"
        },
        "id": "foIIBZseXrpN",
        "outputId": "5e58f844-dd51-4487-9f1c-283adaa242c3"
      },
      "execution_count": 25,
      "outputs": [
        {
          "output_type": "stream",
          "name": "stdout",
          "text": [
            "[5, 7, 13, 29]\n"
          ]
        }
      ]
    },
    {
      "cell_type": "code",
      "source": [
        "#Solution 2\n",
        "number = 13195\n",
        "def is_prime(num,i):\n",
        "  yes_no=False\n",
        "  if (int(num)%int(i)) == 0:\n",
        "    yes_no=True\n",
        "  return yes_no\n",
        "def prime_factor(num):\n",
        "  tab=[]\n",
        "  for i in range(2,int(num/2)):\n",
        "    indicator=1\n",
        "    if is_prime(num,i):\n",
        "      for j in range(2,int(i/2)):\n",
        "        if is_prime(i,j):\n",
        "          indicator=0\n",
        "      if indicator==1:\n",
        "        tab.append(i)\n",
        "  return tab\n",
        "\n",
        "prime_factor(number)"
      ],
      "metadata": {
        "colab": {
          "base_uri": "https://localhost:8080/"
        },
        "id": "mTP510ghYlxl",
        "outputId": "1e020aec-1e7d-4bc0-8df2-94fdf2b16b61"
      },
      "execution_count": 41,
      "outputs": [
        {
          "output_type": "execute_result",
          "data": {
            "text/plain": [
              "[5, 7, 13, 29]"
            ]
          },
          "metadata": {},
          "execution_count": 41
        }
      ]
    },
    {
      "cell_type": "code",
      "source": [
        "#Solution 3\n",
        "number = 13195\n",
        "prime=[]\n",
        "for i in range(2,int(number)):\n",
        "  indicator =1\n",
        "  if (number % int(i)==0):\n",
        "    for j in range(2,int(i)):\n",
        "      if (int(i)%int(j) ==0):\n",
        "        indicator=0\n",
        "    if (indicator ==1):\n",
        "      prime.append(i)\n",
        "print(prime)"
      ],
      "metadata": {
        "colab": {
          "base_uri": "https://localhost:8080/"
        },
        "id": "HWeiNiBtg0eb",
        "outputId": "2d1eccd1-fc6a-49a5-e0ea-111f4589298c"
      },
      "execution_count": 42,
      "outputs": [
        {
          "output_type": "stream",
          "name": "stdout",
          "text": [
            "[5, 7, 13, 29]\n"
          ]
        }
      ]
    },
    {
      "cell_type": "code",
      "source": [
        "#Solution 4\n",
        "number = 13195\n",
        "def is_prime(num,i):\n",
        "  yes_no=False\n",
        "  if (int(num)%int(i)) == 0:\n",
        "    yes_no=True\n",
        "  return yes_no\n",
        "def prime_factor(num):\n",
        "  tab=[]\n",
        "  for i in range(2,int(num)):\n",
        "    indicator=1\n",
        "    if is_prime(num,i):\n",
        "      for j in range(2,int(i)):\n",
        "        if is_prime(i,j):\n",
        "          indicator=0\n",
        "      if indicator==1:\n",
        "        tab.append(i)\n",
        "  return tab\n",
        "\n",
        "prime_factor(number)"
      ],
      "metadata": {
        "colab": {
          "base_uri": "https://localhost:8080/"
        },
        "id": "oJLL20_ik2MD",
        "outputId": "84cb9885-a467-41c2-b311-b2b9c881f39b"
      },
      "execution_count": 43,
      "outputs": [
        {
          "output_type": "execute_result",
          "data": {
            "text/plain": [
              "[5, 7, 13, 29]"
            ]
          },
          "metadata": {},
          "execution_count": 43
        }
      ]
    },
    {
      "cell_type": "code",
      "source": [],
      "metadata": {
        "id": "qqaA_7hLk7z2"
      },
      "execution_count": null,
      "outputs": []
    }
  ]
}